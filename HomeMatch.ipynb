{
 "cells": [
  {
   "cell_type": "markdown",
   "id": "a108af04",
   "metadata": {},
   "source": [
    "# HomeMatch: Real Estate AI Agent"
   ]
  },
  {
   "cell_type": "code",
   "execution_count": 1,
   "id": "6554fd4c",
   "metadata": {},
   "outputs": [],
   "source": [
    "# This script loads environment variables from a .env file.\n",
    "import os\n",
    "from dotenv import load_dotenv\n",
    "\n",
    "load_dotenv()\n",
    "\n",
    "openai_api_key = os.getenv(\"OPENAI_API_KEY\")\n",
    "openai_api_base = os.getenv(\"OPENAI_API_BASE\")"
   ]
  },
  {
   "cell_type": "markdown",
   "id": "9f2395a5",
   "metadata": {},
   "source": [
    "## Synthetic Data Generation"
   ]
  },
  {
   "cell_type": "markdown",
   "id": "3a46eb3c",
   "metadata": {},
   "source": [
    "### Generating Real Estate Listings with an LLM\n",
    "\n",
    "**LLM PROMPT**\n",
    "```\n",
    "Generate at least 10 real estate listings. \n",
    "An example of a listing might be under `<listing_model>` tag. \n",
    "Output the response in json format.\n",
    "\n",
    "<listing_model>\n",
    "Neighborhood: Green Oaks\n",
    "Price: $800,000\n",
    "Bedrooms: 3\n",
    "Bathrooms: 2\n",
    "House Size: 2,000 sqft\n",
    "\n",
    "Description: Welcome to this eco-friendly oasis nestled in the heart of Green Oaks. This charming 3-bedroom, 2-bathroom home boasts energy-efficient features such as solar panels and a well-insulated structure. Natural light floods the living spaces, highlighting the beautiful hardwood floors and eco-conscious finishes. The open-concept kitchen and dining area lead to a spacious backyard with a vegetable garden, perfect for the eco-conscious family. Embrace sustainable living without compromising on style in this Green Oaks gem.\n",
    "\n",
    "Neighborhood Description: Green Oaks is a close-knit, environmentally-conscious community with access to organic grocery stores, community gardens, and bike paths. Take a stroll through the nearby Green Oaks Park or grab a cup of coffee at the cozy Green Bean Cafe. With easy access to public transportation and bike lanes, commuting is a breeze.\n",
    "</listing_model>\n",
    "```"
   ]
  },
  {
   "cell_type": "code",
   "execution_count": 2,
   "id": "ef6fd697",
   "metadata": {},
   "outputs": [
    {
     "name": "stdout",
     "output_type": "stream",
     "text": [
      "Total: 10\n",
      "Items: [{'Neighborhood': 'Green Oaks', 'Price': '$800,000', 'Bedrooms': 3, 'Bathrooms': 2, 'House Size': '2,000 sqft', 'Description': 'Welcome to this eco-friendly oasis nestled in the heart of Green Oaks. This charming 3-bedroom, 2-bathroom home boasts energy-efficient features such as solar panels and a well-insulated structure. Natural light floods the living spaces, highlighting the beautiful hardwood floors and eco-conscious finishes. The open-concept kitchen and dining area lead to a spacious backyard with a vegetable garden, perfect for the eco-conscious family. Embrace sustainable living without compromising on style in this Green Oaks gem.', 'Neighborhood Description': 'Green Oaks is a close-knit, environmentally-conscious community with access to organic grocery stores, community gardens, and bike paths. Take a stroll through the nearby Green Oaks Park or grab a cup of coffee at the cozy Green Bean Cafe. With easy access to public transportation and bike lanes, commuting is a breeze.'}, {'Neighborhood': 'Riverbend', 'Price': '$920,000', 'Bedrooms': 4, 'Bathrooms': 3.5, 'House Size': '2,900 sqft', 'Description': 'A luxurious retreat in the scenic Riverbend neighborhood, this 4-bedroom home features a grand entryway, formal dining, and a gourmet kitchen. The master suite includes a spa-inspired bathroom and private balcony overlooking the river. Enjoy evenings by the stone fireplace or entertain on the expansive covered patio.', 'Neighborhood Description': 'Riverbend is known for its serene landscapes, with riverfront walking trails and picturesque parks. The community blends natural beauty with upscale living, and it’s minutes away from top schools and shopping centers.'}, {'Neighborhood': 'Oak Hill Estates', 'Price': '$1,150,000', 'Bedrooms': 5, 'Bathrooms': 4, 'House Size': '3,500 sqft', 'Description': 'This spacious estate sits on a half-acre lot in Oak Hill Estates, boasting high ceilings, custom cabinetry, and a chef’s kitchen. The outdoor living area features a fireplace, pool, and built-in grill. A finished basement offers a home gym and media room.', 'Neighborhood Description': 'Oak Hill Estates is a premier neighborhood with large lots, mature trees, and a strong sense of community. Residents enjoy excellent schools, security patrols, and quick access to downtown.'}, {'Neighborhood': 'Sunset View', 'Price': '$675,000', 'Bedrooms': 3, 'Bathrooms': 2, 'House Size': '1,850 sqft', 'Description': 'Enjoy spectacular sunsets from this hilltop ranch in Sunset View. The open layout includes a fireplace-warmed living room and updated kitchen with stainless steel appliances. French doors lead to a deck with panoramic views.', 'Neighborhood Description': 'Sunset View is a peaceful hilltop neighborhood with some of the best vistas in the city. It offers excellent biking trails, quiet streets, and a family-friendly atmosphere.'}, {'Neighborhood': 'Downtown Lofts', 'Price': '$850,000', 'Bedrooms': 2, 'Bathrooms': 2, 'House Size': '1,400 sqft', 'Description': 'Chic and modern, this 2-bedroom loft offers exposed brick, high ceilings, and sleek finishes. The building includes a rooftop terrace, gym, and underground parking. Perfect for professionals who love city life.', 'Neighborhood Description': 'Downtown Lofts is located in the heart of the city’s arts and entertainment district. Walk to cafes, galleries, theaters, and the riverfront park. Urban living at its finest.'}, {'Neighborhood': 'Meadowbrook', 'Price': '$480,000', 'Bedrooms': 3, 'Bathrooms': 2.5, 'House Size': '2,100 sqft', 'Description': 'This family-friendly home in Meadowbrook features a welcoming front porch, updated kitchen, and cozy den. The backyard is fenced with a play area and fire pit. Newly painted interiors and move-in ready.', 'Neighborhood Description': 'Meadowbrook is a classic suburban neighborhood with a community pool, excellent schools, and local farmer’s markets. Ideal for growing families seeking comfort and convenience.'}, {'Neighborhood': 'Highlands', 'Price': '$995,000', 'Bedrooms': 4, 'Bathrooms': 3.5, 'House Size': '2,800 sqft', 'Description': 'This craftsman-style gem in the Highlands is full of character and charm. Featuring hardwood floors, coffered ceilings, and a sunroom, the home also includes a gourmet kitchen and backyard garden.', 'Neighborhood Description': 'The Highlands neighborhood is known for its walkability, boutique shops, and vibrant food scene. A mix of historic and new homes make this an in-demand, culturally rich area.'}, {'Neighborhood': 'Seaside Bluffs', 'Price': '$2,300,000', 'Bedrooms': 5, 'Bathrooms': 4.5, 'House Size': '4,200 sqft', 'Description': 'Breathtaking ocean views await at this luxurious coastal estate in Seaside Bluffs. Floor-to-ceiling windows, a wraparound deck, and a chef’s kitchen are just the beginning. The master suite includes a spa tub and direct balcony access.', 'Neighborhood Description': 'Seaside Bluffs offers luxury coastal living with access to private beaches, golf courses, and marinas. Residents enjoy ocean breezes, high-end shopping, and year-round sunsets.'}, {'Neighborhood': 'Forest Glen', 'Price': '$590,000', 'Bedrooms': 4, 'Bathrooms': 3, 'House Size': '2,400 sqft', 'Description': 'This updated colonial in Forest Glen includes a two-story foyer, spacious bedrooms, and a large fenced backyard. A bonus room over the garage is ideal for a playroom or home office.', 'Neighborhood Description': 'Forest Glen is a tranquil wooded community known for its scenic nature trails and wildlife. A favorite for families and nature enthusiasts alike.'}, {'Neighborhood': 'Lakewood Terrace', 'Price': '$710,000', 'Bedrooms': 3, 'Bathrooms': 2.5, 'House Size': '2,200 sqft', 'Description': 'Welcome to Lakewood Terrace, where this modern home offers a lake view, open kitchen, and smart home features. The backyard includes a pergola and outdoor kitchen—perfect for entertaining.', 'Neighborhood Description': 'Lakewood Terrace is a lakeside community with kayak launches, picnic areas, and dog-friendly trails. Enjoy peaceful evenings and community events year-round.'}]\n"
     ]
    }
   ],
   "source": [
    "# This script loads a list of real estate houses with detailed descriptions and neighborhood information.\n",
    "import json\n",
    "\n",
    "with open('data/listings.json', 'r', encoding='utf-8') as f:\n",
    "    listings = json.load(f)\n",
    "\n",
    "print(f\"Total: {len(listings)}\\nItems: {listings}\")"
   ]
  },
  {
   "cell_type": "markdown",
   "id": "6d062ad7",
   "metadata": {},
   "source": [
    "## Semantic Search"
   ]
  },
  {
   "cell_type": "markdown",
   "id": "aa2f1ba2",
   "metadata": {},
   "source": [
    "### Creating a Vector Database and Storing Listings"
   ]
  },
  {
   "cell_type": "code",
   "execution_count": 3,
   "id": "ec040445",
   "metadata": {},
   "outputs": [],
   "source": [
    "# This script sets up a vector database for storing and retrieving embeddings.\n",
    "from langchain_chroma import Chroma\n",
    "from langchain_openai import OpenAIEmbeddings\n",
    "from langchain_text_splitters import RecursiveCharacterTextSplitter\n",
    "\n",
    "embedding = OpenAIEmbeddings()\n",
    "vectorstore = Chroma(embedding_function=embedding,persist_directory=\"data/vectorstore\")\n",
    "\n",
    "text_splitter = RecursiveCharacterTextSplitter(chunk_size=1000, chunk_overlap=200)\n",
    "\n",
    "for listing in listings:\n",
    "    # Combine all relevant fields into a single string for embedding\n",
    "    fields = [\n",
    "        f\"Neighborhood: {listing.get('Neighborhood', '')}\",\n",
    "        f\"Price: {listing.get('Price', '')}\",\n",
    "        f\"Bedrooms: {listing.get('Bedrooms', '')}\",\n",
    "        f\"Bathrooms: {listing.get('Bathrooms', '')}\",\n",
    "        f\"House Size: {listing.get('House Size', '')}\",\n",
    "        f\"Description: {listing.get('Description', '')}\",\n",
    "        f\"Neighborhood Description: {listing.get('Neighborhood Description', '')}\"\n",
    "    ]\n",
    "    full_text = \"\\n\".join(fields)\n",
    "    chunks = text_splitter.split_text(full_text)\n",
    "    for chunk in chunks:\n",
    "        vectorstore.add_texts([chunk])"
   ]
  },
  {
   "cell_type": "markdown",
   "id": "ab424223",
   "metadata": {},
   "source": [
    "### Semantic Search of Listings Based on Buyer Preferences"
   ]
  },
  {
   "cell_type": "code",
   "execution_count": 4,
   "id": "5a15b904",
   "metadata": {},
   "outputs": [
    {
     "name": "stdout",
     "output_type": "stream",
     "text": [
      "Top 3 Listings Matching Buyer Preferences:\n",
      "\n",
      "Listing 1:\n",
      "Neighborhood: Meadowbrook\n",
      "Price: $480,000\n",
      "Bedrooms: 3\n",
      "Bathrooms: 2.5\n",
      "House Size: 2,100 sqft\n",
      "Description: This family-friendly home in Meadowbrook features a welcoming front porch, updated kitchen, and cozy den. The backyard is fenced with a play area and fire pit. Newly painted interiors and move-in ready.\n",
      "Neighborhood Description: Meadowbrook is a classic suburban neighborhood with a community pool, excellent schools, and local farmer’s markets. Ideal for growing families seeking comfort and convenience.\n",
      "----------------------------------------\n",
      "Listing 2:\n",
      "Neighborhood: Green Oaks\n",
      "Price: $800,000\n",
      "Bedrooms: 3\n",
      "Bathrooms: 2\n",
      "House Size: 2,000 sqft\n",
      "Description: Welcome to this eco-friendly oasis nestled in the heart of Green Oaks. This charming 3-bedroom, 2-bathroom home boasts energy-efficient features such as solar panels and a well-insulated structure. Natural light floods the living spaces, highlighting the beautiful hardwood floors and eco-conscious finishes. The open-concept kitchen and dining area lead to a spacious backyard with a vegetable garden, perfect for the eco-conscious family. Embrace sustainable living without compromising on style in this Green Oaks gem.\n",
      "Neighborhood Description: Green Oaks is a close-knit, environmentally-conscious community with access to organic grocery stores, community gardens, and bike paths. Take a stroll through the nearby Green Oaks Park or grab a cup of coffee at the cozy Green Bean Cafe. With easy access to public transportation and bike lanes, commuting is a breeze.\n",
      "----------------------------------------\n",
      "Listing 3:\n",
      "Neighborhood: Highlands\n",
      "Price: $995,000\n",
      "Bedrooms: 4\n",
      "Bathrooms: 3.5\n",
      "House Size: 2,800 sqft\n",
      "Description: This craftsman-style gem in the Highlands is full of character and charm. Featuring hardwood floors, coffered ceilings, and a sunroom, the home also includes a gourmet kitchen and backyard garden.\n",
      "Neighborhood Description: The Highlands neighborhood is known for its walkability, boutique shops, and vibrant food scene. A mix of historic and new homes make this an in-demand, culturally rich area.\n",
      "----------------------------------------\n"
     ]
    }
   ],
   "source": [
    "# This script performs a similarity search in the vector database.\n",
    "# Hard-coded questions and example answers\n",
    "questions = [   \n",
    "    \"How big do you want your house to be?\",\n",
    "    \"What are 3 most important things for you in choosing this property?\", \n",
    "    \"Which amenities would you like?\", \n",
    "    \"Which transportation options are important to you?\",\n",
    "    \"How urban do you want your neighborhood to be?\",   \n",
    "]\n",
    "answers = [\n",
    "    \"A comfortable three-bedroom house with a spacious kitchen and a cozy living room.\",\n",
    "    \"A quiet neighborhood, good local schools, and convenient shopping options.\",\n",
    "    \"A backyard for gardening, a two-car garage, and a modern, energy-efficient heating system.\",\n",
    "    \"Easy access to a reliable bus line, proximity to a major highway, and bike-friendly roads.\",\n",
    "    \"A balance between suburban tranquility and access to urban amenities like restaurants and theaters.\"\n",
    "]\n",
    "# Combine answers into a single preference string for semantic search\n",
    "buyer_preferences = \"\\n\".join(answers)\n",
    "# Perform semantic search using the vectorstore\n",
    "results = vectorstore.similarity_search(buyer_preferences, k=3)\n",
    "\n",
    "print(\"Top 3 Listings Matching Buyer Preferences:\\n\")\n",
    "\n",
    "for i, res in enumerate(results[:3], 1):\n",
    "    print(f\"Listing {i}:\\n{res.page_content}\\n{'-'*40}\")"
   ]
  },
  {
   "cell_type": "markdown",
   "id": "6805fcc1",
   "metadata": {},
   "source": [
    "## Augmented Response Generation"
   ]
  },
  {
   "cell_type": "markdown",
   "id": "264d4e3b",
   "metadata": {},
   "source": [
    "### Logic for Searching and Augmenting Listing Descriptions"
   ]
  },
  {
   "cell_type": "code",
   "execution_count": 5,
   "id": "2a348635",
   "metadata": {},
   "outputs": [],
   "source": [
    "from langchain_openai import OpenAI\n",
    "\n",
    "# Updating temperature for more creative responses\n",
    "llm = OpenAI(openai_api_key=openai_api_key, openai_api_base=openai_api_base,temperature=0.5)\n",
    "\n",
    "def augment_listing_description(listing_text, buyer_preferences):\n",
    "    \"\"\"\n",
    "    Augment the listing description based on buyer preferences using a large language model.\n",
    "    \"\"\"\n",
    "    prompt = (\n",
    "        \"You are a helpful real estate agent. \"\n",
    "        \"Given the following property listing and buyer preferences, rewrite the listing description to highlight features that match the buyer's interests. \"\n",
    "        \"Do not change or invent any factual information. \"        \n",
    "        \"Make the listing more appealing to this buyer by emphasizing relevant aspects.\\n\\n\"\n",
    "        f\"Buyer Preferences:\\n{buyer_preferences}\\n\\n\"\n",
    "        f\"Original Listing:\\n{listing_text}\\n\\n\"\n",
    "        \"You should return the response in json format e.g. {\\\"description\\\": \\\"...\\\"}\\n\"\n",
    "    )\n",
    "    \n",
    "    return llm.invoke(prompt).strip()"
   ]
  },
  {
   "cell_type": "code",
   "execution_count": 12,
   "id": "7ac8581a",
   "metadata": {},
   "outputs": [],
   "source": [
    "def search_listings_by_preferences(buyer_answers):\n",
    "    \"\"\"\n",
    "    Search for listings that match the buyer's preferences and augment the descriptions.\n",
    "    \"\"\"\n",
    "    buyer_preferences = \"\\n\".join(buyer_answers)\n",
    "    results = vectorstore.similarity_search(buyer_preferences, k=3)\n",
    "\n",
    "    print(f\"BUYER PREFERENCES:\\n{buyer_preferences}\\n{'-'*40}\")\n",
    "\n",
    "    for i, res in enumerate(results[:3], 1):\n",
    "        listing_text = f\"Listing {i}:\\n{res.page_content}\"\n",
    "        print(f\"ORIGINAL LISTINGS:\\n{listing_text.replace('.','\\n')}\\n{'-'*40}\")\n",
    "        augmented_text = augment_listing_description(listing_text, buyer_preferences)\n",
    "        augmented_description = json.loads(augmented_text).get(\"description\", \"No description provided\")\n",
    "        print(f\"PERSONALIZED DESCRIPTION:\\n{augmented_description.replace('.','\\n')}\\n{'-'*40}\")"
   ]
  },
  {
   "cell_type": "markdown",
   "id": "5b4f690b",
   "metadata": {},
   "source": [
    "### Use of LLM for Generating Personalized Descriptions"
   ]
  },
  {
   "cell_type": "code",
   "execution_count": 13,
   "id": "21150954",
   "metadata": {},
   "outputs": [
    {
     "name": "stdout",
     "output_type": "stream",
     "text": [
      "BUYER PREFERENCES:\n",
      "A comfortable three-bedroom house with a spacious kitchen and a cozy living room.\n",
      "A quiet neighborhood, good local schools, and convenient shopping options.\n",
      "A backyard for gardening, a two-car garage, and a modern, energy-efficient heating system.\n",
      "Easy access to a reliable bus line, proximity to a major highway, and bike-friendly roads.\n",
      "A balance between suburban tranquility and access to urban amenities like restaurants and theaters.\n",
      "----------------------------------------\n",
      "ORIGINAL LISTINGS:\n",
      "Listing 1:\n",
      "Neighborhood: Meadowbrook\n",
      "Price: $480,000\n",
      "Bedrooms: 3\n",
      "Bathrooms: 2\n",
      "5\n",
      "House Size: 2,100 sqft\n",
      "Description: This family-friendly home in Meadowbrook features a welcoming front porch, updated kitchen, and cozy den\n",
      " The backyard is fenced with a play area and fire pit\n",
      " Newly painted interiors and move-in ready\n",
      "\n",
      "Neighborhood Description: Meadowbrook is a classic suburban neighborhood with a community pool, excellent schools, and local farmer’s markets\n",
      " Ideal for growing families seeking comfort and convenience\n",
      "\n",
      "----------------------------------------\n",
      "PERSONALIZED DESCRIPTION:\n",
      "Welcome to your dream home in the quiet and family-friendly neighborhood of Meadowbrook! This spacious three-bedroom house boasts a modern, updated kitchen perfect for cooking and entertaining\n",
      " Relax in the cozy living room or step out to the backyard for some gardening in the fenced yard\n",
      " The two-car garage and energy-efficient heating system add convenience and savings\n",
      " Enjoy the tranquility of suburban living while still being close to top-rated schools, convenient shopping options, and a reliable bus line\n",
      " With easy access to a major highway and bike-friendly roads, you can easily explore the nearby urban amenities such as restaurants and theaters\n",
      " Don't miss the chance to make this move-in ready home yours!\n",
      "----------------------------------------\n",
      "ORIGINAL LISTINGS:\n",
      "Listing 2:\n",
      "Neighborhood: Green Oaks\n",
      "Price: $800,000\n",
      "Bedrooms: 3\n",
      "Bathrooms: 2\n",
      "House Size: 2,000 sqft\n",
      "Description: Welcome to this eco-friendly oasis nestled in the heart of Green Oaks\n",
      " This charming 3-bedroom, 2-bathroom home boasts energy-efficient features such as solar panels and a well-insulated structure\n",
      " Natural light floods the living spaces, highlighting the beautiful hardwood floors and eco-conscious finishes\n",
      " The open-concept kitchen and dining area lead to a spacious backyard with a vegetable garden, perfect for the eco-conscious family\n",
      " Embrace sustainable living without compromising on style in this Green Oaks gem\n",
      "\n",
      "Neighborhood Description: Green Oaks is a close-knit, environmentally-conscious community with access to organic grocery stores, community gardens, and bike paths\n",
      " Take a stroll through the nearby Green Oaks Park or grab a cup of coffee at the cozy Green Bean Cafe\n",
      " With easy access to public transportation and bike lanes, commuting is a breeze\n",
      "\n",
      "----------------------------------------\n",
      "PERSONALIZED DESCRIPTION:\n",
      "Welcome to this eco-friendly oasis nestled in the heart of Green Oaks\n",
      " This charming 3-bedroom, 2-bathroom home boasts energy-efficient features such as solar panels and a well-insulated structure\n",
      " Natural light floods the living spaces, highlighting the beautiful hardwood floors and eco-conscious finishes\n",
      " The open-concept kitchen and dining area lead to a spacious backyard, perfect for gardening and outdoor entertaining\n",
      " Enjoy the tranquility of this quiet neighborhood while still being conveniently close to good schools and shopping options\n",
      " With easy access to a reliable bus line and proximity to a major highway, commuting is a breeze\n",
      " Embrace sustainable living without compromising on style in this Green Oaks gem, offering a balance between suburban tranquility and access to urban amenities like restaurants and theaters\n",
      "\n",
      "----------------------------------------\n",
      "ORIGINAL LISTINGS:\n",
      "Listing 3:\n",
      "Neighborhood: Highlands\n",
      "Price: $995,000\n",
      "Bedrooms: 4\n",
      "Bathrooms: 3\n",
      "5\n",
      "House Size: 2,800 sqft\n",
      "Description: This craftsman-style gem in the Highlands is full of character and charm\n",
      " Featuring hardwood floors, coffered ceilings, and a sunroom, the home also includes a gourmet kitchen and backyard garden\n",
      "\n",
      "Neighborhood Description: The Highlands neighborhood is known for its walkability, boutique shops, and vibrant food scene\n",
      " A mix of historic and new homes make this an in-demand, culturally rich area\n",
      "\n",
      "----------------------------------------\n",
      "PERSONALIZED DESCRIPTION:\n",
      "Welcome to your dream home in the desirable Highlands neighborhood! This charming craftsman-style house boasts 3 cozy bedrooms, a spacious kitchen perfect for cooking and entertaining, and a cozy living room for relaxing\n",
      " Enjoy the tranquility of the quiet neighborhood, top-rated schools, and convenient shopping options\n",
      " The backyard is perfect for gardening and the two-car garage provides ample storage space\n",
      " Stay warm and save on energy bills with the modern heating system\n",
      " With easy access to a reliable bus line and a major highway, commuting is a breeze\n",
      " Plus, the bike-friendly roads make it easy to explore the surrounding area\n",
      " Enjoy the perfect balance between suburban peace and access to urban amenities like restaurants and theaters\n",
      " Don't miss out on this gem listed at $995,000!\n",
      "----------------------------------------\n"
     ]
    }
   ],
   "source": [
    "# This script use the hard-coded buyer answers to search for listings and augment their descriptions.\n",
    "search_listings_by_preferences(answers)"
   ]
  },
  {
   "cell_type": "markdown",
   "id": "1801620b",
   "metadata": {},
   "source": [
    "## Interactive Quiz"
   ]
  },
  {
   "cell_type": "code",
   "execution_count": 14,
   "id": "bc1abefb",
   "metadata": {},
   "outputs": [
    {
     "name": "stdout",
     "output_type": "stream",
     "text": [
      "BUYER PREFERENCES:\n",
      "medium size\n",
      "I want 2 rooms\n",
      "not sure\n",
      "any\n",
      "common\n",
      "----------------------------------------\n",
      "ORIGINAL LISTINGS:\n",
      "Listing 1:\n",
      "Neighborhood: Downtown Lofts\n",
      "Price: $850,000\n",
      "Bedrooms: 2\n",
      "Bathrooms: 2\n",
      "House Size: 1,400 sqft\n",
      "Description: Chic and modern, this 2-bedroom loft offers exposed brick, high ceilings, and sleek finishes\n",
      " The building includes a rooftop terrace, gym, and underground parking\n",
      " Perfect for professionals who love city life\n",
      "\n",
      "Neighborhood Description: Downtown Lofts is located in the heart of the city’s arts and entertainment district\n",
      " Walk to cafes, galleries, theaters, and the riverfront park\n",
      " Urban living at its finest\n",
      "\n",
      "----------------------------------------\n",
      "PERSONALIZED DESCRIPTION:\n",
      "Experience chic and modern living in this spacious 2-bedroom loft located in the heart of the city's arts and entertainment district\n",
      " With high ceilings, exposed brick, and sleek finishes, this medium-sized loft is perfect for professionals looking for a stylish urban lifestyle\n",
      " Enjoy the convenience of a rooftop terrace, gym, and underground parking\n",
      " This loft is within walking distance to cafes, galleries, theaters, and the riverfront park, making it the ideal choice for those who want to live in the bustling Downtown Lofts neighborhood\n",
      " Don't miss out on the opportunity to make this your new home!\n",
      "----------------------------------------\n",
      "ORIGINAL LISTINGS:\n",
      "Listing 2:\n",
      "Neighborhood: Meadowbrook\n",
      "Price: $480,000\n",
      "Bedrooms: 3\n",
      "Bathrooms: 2\n",
      "5\n",
      "House Size: 2,100 sqft\n",
      "Description: This family-friendly home in Meadowbrook features a welcoming front porch, updated kitchen, and cozy den\n",
      " The backyard is fenced with a play area and fire pit\n",
      " Newly painted interiors and move-in ready\n",
      "\n",
      "Neighborhood Description: Meadowbrook is a classic suburban neighborhood with a community pool, excellent schools, and local farmer’s markets\n",
      " Ideal for growing families seeking comfort and convenience\n",
      "\n",
      "----------------------------------------\n",
      "PERSONALIZED DESCRIPTION:\n",
      "This charming family home in the desirable neighborhood of Meadowbrook is perfect for medium-sized families\n",
      " With 2 rooms and 2\n",
      "5 bathrooms, there is plenty of space for everyone\n",
      " The updated kitchen and cozy den make for a comfortable living experience\n",
      " The backyard is fenced, providing a safe and fun play area for children, and also features a fire pit for relaxing evenings\n",
      " The interiors have been freshly painted, making this home move-in ready\n",
      " Meadowbrook also offers a community pool, excellent schools, and local farmer's markets, making it an ideal location for families\n",
      " Don't miss out on the opportunity to make this common-friendly neighborhood your new home!\n",
      "----------------------------------------\n",
      "ORIGINAL LISTINGS:\n",
      "Listing 3:\n",
      "Neighborhood: Forest Glen\n",
      "Price: $590,000\n",
      "Bedrooms: 4\n",
      "Bathrooms: 3\n",
      "House Size: 2,400 sqft\n",
      "Description: This updated colonial in Forest Glen includes a two-story foyer, spacious bedrooms, and a large fenced backyard\n",
      " A bonus room over the garage is ideal for a playroom or home office\n",
      "\n",
      "Neighborhood Description: Forest Glen is a tranquil wooded community known for its scenic nature trails and wildlife\n",
      " A favorite for families and nature enthusiasts alike\n",
      "\n",
      "----------------------------------------\n",
      "PERSONALIZED DESCRIPTION:\n",
      "Looking for a medium-sized home in a tranquil and family-friendly neighborhood? Look no further than this updated colonial in Forest Glen! With 2 spacious bedrooms and a bonus room perfect for a playroom or home office, this house is ideal for your needs\n",
      " Enjoy the scenic nature trails and wildlife in this beautiful wooded community\n",
      " Don't miss out on the large fenced backyard, perfect for outdoor activities and gatherings\n",
      " Come see for yourself and make this your new home!\n",
      "----------------------------------------\n"
     ]
    }
   ],
   "source": [
    "# This script allows for interactive input of buyer preferences.\n",
    "interactive_aswers = []\n",
    "\n",
    "for i, question in enumerate(questions, 1):    \n",
    "    user_aswers = input(f\"Question {i}: {question}\")\n",
    "    interactive_aswers.append(user_aswers)\n",
    "\n",
    "search_listings_by_preferences(interactive_aswers)"
   ]
  }
 ],
 "metadata": {
  "kernelspec": {
   "display_name": ".venv",
   "language": "python",
   "name": "python3"
  },
  "language_info": {
   "codemirror_mode": {
    "name": "ipython",
    "version": 3
   },
   "file_extension": ".py",
   "mimetype": "text/x-python",
   "name": "python",
   "nbconvert_exporter": "python",
   "pygments_lexer": "ipython3",
   "version": "3.13.3"
  }
 },
 "nbformat": 4,
 "nbformat_minor": 5
}
